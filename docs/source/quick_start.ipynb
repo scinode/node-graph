{
 "cells": [
  {
   "cell_type": "markdown",
   "id": "22d177dc-6cfb-4de2-9509-f1eb45e10cf2",
   "metadata": {},
   "source": [
    "# Quick Start"
   ]
  },
  {
   "cell_type": "markdown",
   "id": "30719f9a",
   "metadata": {},
   "source": [
    "## First workflow\n",
    "Suppose we want to calculate ```(x + y) * z ``` in two steps.\n",
    "\n",
    "- step 1: add `x` and `y`\n",
    "- step 2: then multiply the result with `z`.\n"
   ]
  },
  {
   "cell_type": "markdown",
   "id": "0f46d277",
   "metadata": {},
   "source": [
    "### Create node\n",
    "Node is the basic building block of a workflow. One can create a node from a Python function using the `decorator`:"
   ]
  },
  {
   "cell_type": "code",
   "execution_count": 1,
   "id": "11e3bca1-dda6-44e9-9585-54feeda7e7db",
   "metadata": {},
   "outputs": [],
   "source": [
    "from node_graph.decorator import node\n",
    "\n",
    "# define add node\n",
    "@node()\n",
    "def add(x, y):\n",
    "    return x + y\n",
    "\n",
    "# define multiply node\n",
    "@node()\n",
    "def multiply(x, y):\n",
    "    return x*y"
   ]
  },
  {
   "cell_type": "markdown",
   "id": "65f4c44d",
   "metadata": {},
   "source": [
    "### Create the workflow\n",
    "Three steps:\n",
    "\n",
    "- create a empty `NodeGraph`\n",
    "- add nodes: `add` and `multiply`.\n",
    "- link the output of the `add` node to one of the `x` input of the `multiply` node."
   ]
  },
  {
   "cell_type": "code",
   "execution_count": 2,
   "id": "8ee799d2-0b5b-4609-957f-6b3f2cd451f0",
   "metadata": {},
   "outputs": [
    {
     "data": {
      "text/html": [
       "\n",
       "        <iframe\n",
       "            width=\"100%\"\n",
       "            height=\"600px\"\n",
       "            src=\"html/first_workflow.html\"\n",
       "            frameborder=\"0\"\n",
       "            allowfullscreen\n",
       "            \n",
       "        ></iframe>\n",
       "        "
      ],
      "text/plain": [
       "<IPython.lib.display.IFrame at 0x732b243ec310>"
      ]
     },
     "execution_count": 2,
     "metadata": {},
     "output_type": "execute_result"
    }
   ],
   "source": [
    "from node_graph import NodeGraph\n",
    "\n",
    "ng = NodeGraph(\"first_workflow\")\n",
    "ng.add_node(add, name=\"add\", x=2, y=3)\n",
    "ng.add_node(multiply, name=\"multiply\", y=4)\n",
    "ng.add_link(ng.nodes.add.outputs.result, ng.nodes.multiply.inputs.x)\n",
    "ng.to_html()"
   ]
  },
  {
   "cell_type": "markdown",
   "id": "84e5957f",
   "metadata": {},
   "source": [
    "## Node group\n",
    "A `NodeGraph` is a group of nodes. One can treat a `NodeGraph` as a single node, and expose the inputs and outputs of the `NodeGraph`. This allow you to write nested workflows.\n"
   ]
  },
  {
   "cell_type": "code",
   "execution_count": 3,
   "id": "7c9d6ed8",
   "metadata": {},
   "outputs": [],
   "source": [
    "from node_graph import NodeGraph\n",
    "from node_graph.decorator import node\n",
    "\n",
    "# use node.graph_builder decorator, expose the output of \"multiply\" node\n",
    "# as the output of the `NodeGraph`.\n",
    "@node.graph_builder(outputs = [{\"name\": \"result\", \"from\": \"multiply.result\"}])\n",
    "def add_multiply(x, y, z):\n",
    "    # Create a NodeGraph\n",
    "    ng = NodeGraph()\n",
    "    ng.add_node(add, name=\"add\", x=x, y=y)\n",
    "    ng.add_node(multiply, name=\"multiply\", x=z)\n",
    "    ng.add_link(ng.nodes.add.outputs[0], ng.nodes.multiply.inputs.y)\n",
    "    # don't forget to return the `ng`\n",
    "    return ng"
   ]
  },
  {
   "cell_type": "markdown",
   "id": "0fcae463",
   "metadata": {},
   "source": [
    "Use this node group inside a `NodeGraph`:"
   ]
  },
  {
   "cell_type": "code",
   "execution_count": 4,
   "id": "a4d961eb",
   "metadata": {},
   "outputs": [],
   "source": [
    "from node_graph import NodeGraph\n",
    "\n",
    "ng = NodeGraph(\"test_node_group\")\n",
    "# create a node using the node group\n",
    "add_multiply1 = ng.add_node(add_multiply, x=2, y=3, z=4)\n",
    "add_multiply2 = ng.add_node(add_multiply, x=2, y=3)\n",
    "# link the output of int node to the input of add node\n",
    "ng.add_link(add_multiply1.outputs.result, add_multiply2.inputs.z)"
   ]
  },
  {
   "cell_type": "markdown",
   "id": "a0779e9d",
   "metadata": {},
   "source": [
    "## What's Next\n",
    "\n",
    "|        |                                         |\n",
    "|---------------|----------------------------------------------------|\n",
    "| [Concepts](concept/index.html)                          | A brief introduction of NodeGraph main concepts.  |"
   ]
  }
 ],
 "metadata": {
  "kernelspec": {
   "display_name": "aiida",
   "language": "python",
   "name": "python3"
  },
  "language_info": {
   "codemirror_mode": {
    "name": "ipython",
    "version": 3
   },
   "file_extension": ".py",
   "mimetype": "text/x-python",
   "name": "python",
   "nbconvert_exporter": "python",
   "pygments_lexer": "ipython3",
   "version": "3.11.0"
  }
 },
 "nbformat": 4,
 "nbformat_minor": 5
}
